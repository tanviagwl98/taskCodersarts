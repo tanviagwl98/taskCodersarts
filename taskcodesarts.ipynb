{
 "cells": [
  {
   "cell_type": "code",
   "execution_count": 15,
   "metadata": {},
   "outputs": [],
   "source": [
    "import pandas as pd\n",
    "import numpy as np\n",
    "import seaborn as sns\n",
    "import matplotlib.pyplot as plt\n",
    "\n",
    "%matplotlib inline"
   ]
  },
  {
   "cell_type": "code",
   "execution_count": 16,
   "metadata": {},
   "outputs": [
    {
     "name": "stdout",
     "output_type": "stream",
     "text": [
      "         EXT1  EXT2  EXT3  EXT4  EXT5  EXT6  EXT7  EXT8  EXT9  EXT10  ...  \\\n",
      "0         4.0   1.0   5.0   2.0   5.0   1.0   5.0   2.0   4.0    1.0  ...   \n",
      "1         3.0   5.0   3.0   4.0   3.0   3.0   2.0   5.0   1.0    5.0  ...   \n",
      "2         2.0   3.0   4.0   4.0   3.0   2.0   1.0   3.0   2.0    5.0  ...   \n",
      "3         2.0   2.0   2.0   3.0   4.0   2.0   2.0   4.0   1.0    4.0  ...   \n",
      "4         3.0   3.0   3.0   3.0   5.0   3.0   3.0   5.0   3.0    4.0  ...   \n",
      "...       ...   ...   ...   ...   ...   ...   ...   ...   ...    ...  ...   \n",
      "1015336   4.0   2.0   4.0   3.0   4.0   3.0   3.0   3.0   3.0    3.0  ...   \n",
      "1015337   4.0   3.0   4.0   3.0   3.0   3.0   4.0   4.0   3.0    3.0  ...   \n",
      "1015338   4.0   2.0   4.0   3.0   5.0   1.0   4.0   2.0   4.0    4.0  ...   \n",
      "1015339   2.0   4.0   3.0   4.0   2.0   2.0   1.0   4.0   2.0    4.0  ...   \n",
      "1015340   4.0   2.0   4.0   2.0   4.0   1.0   4.0   2.0   4.0    4.0  ...   \n",
      "\n",
      "                    dateload  screenw  screenh  introelapse  testelapse  \\\n",
      "0        2016-03-03 02:01:01    768.0   1024.0          9.0       234.0   \n",
      "1        2016-03-03 02:01:20   1360.0    768.0         12.0       179.0   \n",
      "2        2016-03-03 02:01:56   1366.0    768.0          3.0       186.0   \n",
      "3        2016-03-03 02:02:02   1920.0   1200.0        186.0       219.0   \n",
      "4        2016-03-03 02:02:57   1366.0    768.0          8.0       315.0   \n",
      "...                      ...      ...      ...          ...         ...   \n",
      "1015336  2018-11-08 12:04:58   1920.0   1080.0          3.0       160.0   \n",
      "1015337  2018-11-08 12:07:18   1920.0   1080.0          3.0       122.0   \n",
      "1015338  2018-11-08 12:07:49   1920.0   1080.0          2.0       135.0   \n",
      "1015339  2018-11-08 12:08:34   1920.0   1080.0          6.0       212.0   \n",
      "1015340  2018-11-08 12:08:45   1920.0   1080.0          3.0       176.0   \n",
      "\n",
      "         endelapse  IPC  country  lat_appx_lots_of_err  long_appx_lots_of_err  \n",
      "0                6    1       GB               51.5448                 0.1991  \n",
      "1               11    1       MY                3.1698                101.706  \n",
      "2                7    1       GB               54.9119                -1.3833  \n",
      "3                7    1       GB                 51.75                  -1.25  \n",
      "4               17    2       KE                   1.0                   38.0  \n",
      "...            ...  ...      ...                   ...                    ...  \n",
      "1015336         10    2       US               39.9883               -75.2208  \n",
      "1015337          7    1       US                  38.0                  -97.0  \n",
      "1015338         12    6       US               36.1473                -86.777  \n",
      "1015339          8    1       US               34.1067              -117.8067  \n",
      "1015340          9    1       US                  38.0                  -97.0  \n",
      "\n",
      "[1015341 rows x 110 columns]\n"
     ]
    }
   ],
   "source": [
    "data = pd.read_csv(\"data-final (1).csv\", sep='\\t')\n",
    "print(data)"
   ]
  },
  {
   "cell_type": "code",
   "execution_count": 17,
   "metadata": {},
   "outputs": [
    {
     "data": {
      "text/plain": [
       "<bound method NDFrame.head of          EXT1  EXT2  EXT3  EXT4  EXT5  EXT6  EXT7  EXT8  EXT9  EXT10  ...  \\\n",
       "0         4.0   1.0   5.0   2.0   5.0   1.0   5.0   2.0   4.0    1.0  ...   \n",
       "1         3.0   5.0   3.0   4.0   3.0   3.0   2.0   5.0   1.0    5.0  ...   \n",
       "2         2.0   3.0   4.0   4.0   3.0   2.0   1.0   3.0   2.0    5.0  ...   \n",
       "3         2.0   2.0   2.0   3.0   4.0   2.0   2.0   4.0   1.0    4.0  ...   \n",
       "4         3.0   3.0   3.0   3.0   5.0   3.0   3.0   5.0   3.0    4.0  ...   \n",
       "...       ...   ...   ...   ...   ...   ...   ...   ...   ...    ...  ...   \n",
       "1015336   4.0   2.0   4.0   3.0   4.0   3.0   3.0   3.0   3.0    3.0  ...   \n",
       "1015337   4.0   3.0   4.0   3.0   3.0   3.0   4.0   4.0   3.0    3.0  ...   \n",
       "1015338   4.0   2.0   4.0   3.0   5.0   1.0   4.0   2.0   4.0    4.0  ...   \n",
       "1015339   2.0   4.0   3.0   4.0   2.0   2.0   1.0   4.0   2.0    4.0  ...   \n",
       "1015340   4.0   2.0   4.0   2.0   4.0   1.0   4.0   2.0   4.0    4.0  ...   \n",
       "\n",
       "                    dateload  screenw  screenh  introelapse  testelapse  \\\n",
       "0        2016-03-03 02:01:01    768.0   1024.0          9.0       234.0   \n",
       "1        2016-03-03 02:01:20   1360.0    768.0         12.0       179.0   \n",
       "2        2016-03-03 02:01:56   1366.0    768.0          3.0       186.0   \n",
       "3        2016-03-03 02:02:02   1920.0   1200.0        186.0       219.0   \n",
       "4        2016-03-03 02:02:57   1366.0    768.0          8.0       315.0   \n",
       "...                      ...      ...      ...          ...         ...   \n",
       "1015336  2018-11-08 12:04:58   1920.0   1080.0          3.0       160.0   \n",
       "1015337  2018-11-08 12:07:18   1920.0   1080.0          3.0       122.0   \n",
       "1015338  2018-11-08 12:07:49   1920.0   1080.0          2.0       135.0   \n",
       "1015339  2018-11-08 12:08:34   1920.0   1080.0          6.0       212.0   \n",
       "1015340  2018-11-08 12:08:45   1920.0   1080.0          3.0       176.0   \n",
       "\n",
       "         endelapse  IPC  country  lat_appx_lots_of_err  long_appx_lots_of_err  \n",
       "0                6    1       GB               51.5448                 0.1991  \n",
       "1               11    1       MY                3.1698                101.706  \n",
       "2                7    1       GB               54.9119                -1.3833  \n",
       "3                7    1       GB                 51.75                  -1.25  \n",
       "4               17    2       KE                   1.0                   38.0  \n",
       "...            ...  ...      ...                   ...                    ...  \n",
       "1015336         10    2       US               39.9883               -75.2208  \n",
       "1015337          7    1       US                  38.0                  -97.0  \n",
       "1015338         12    6       US               36.1473                -86.777  \n",
       "1015339          8    1       US               34.1067              -117.8067  \n",
       "1015340          9    1       US                  38.0                  -97.0  \n",
       "\n",
       "[1015341 rows x 110 columns]>"
      ]
     },
     "execution_count": 17,
     "metadata": {},
     "output_type": "execute_result"
    }
   ],
   "source": [
    "data.head"
   ]
  },
  {
   "cell_type": "code",
   "execution_count": 18,
   "metadata": {},
   "outputs": [
    {
     "name": "stdout",
     "output_type": "stream",
     "text": [
      "True\n",
      "True\n"
     ]
    }
   ],
   "source": [
    "print(data['introelapse'].isnull().values.any())\n",
    "print(data['testelapse'].isnull().values.any())\n"
   ]
  },
  {
   "cell_type": "code",
   "execution_count": 19,
   "metadata": {},
   "outputs": [
    {
     "name": "stdout",
     "output_type": "stream",
     "text": [
      "2066\n",
      "1783\n"
     ]
    }
   ],
   "source": [
    "print(data['introelapse'].isnull().sum())\n",
    "print(data['testelapse'].isnull().sum())"
   ]
  },
  {
   "cell_type": "code",
   "execution_count": 20,
   "metadata": {},
   "outputs": [],
   "source": [
    "replacement= {'introelapse': 0, 'testelapse': 0, 'screenw' : 0, 'screenh' : 0}\n",
    "data = data.fillna(value=replacement)"
   ]
  },
  {
   "cell_type": "code",
   "execution_count": 21,
   "metadata": {},
   "outputs": [
    {
     "name": "stdout",
     "output_type": "stream",
     "text": [
      "False\n",
      "False\n"
     ]
    }
   ],
   "source": [
    "print(data['introelapse'].isnull().values.any())\n",
    "print(data['testelapse'].isnull().values.any())\n"
   ]
  },
  {
   "cell_type": "code",
   "execution_count": 22,
   "metadata": {},
   "outputs": [
    {
     "data": {
      "text/plain": [
       "<bound method DataFrame.info of          EXT1  EXT2  EXT3  EXT4  EXT5  EXT6  EXT7  EXT8  EXT9  EXT10  ...  \\\n",
       "0         4.0   1.0   5.0   2.0   5.0   1.0   5.0   2.0   4.0    1.0  ...   \n",
       "1         3.0   5.0   3.0   4.0   3.0   3.0   2.0   5.0   1.0    5.0  ...   \n",
       "2         2.0   3.0   4.0   4.0   3.0   2.0   1.0   3.0   2.0    5.0  ...   \n",
       "3         2.0   2.0   2.0   3.0   4.0   2.0   2.0   4.0   1.0    4.0  ...   \n",
       "4         3.0   3.0   3.0   3.0   5.0   3.0   3.0   5.0   3.0    4.0  ...   \n",
       "...       ...   ...   ...   ...   ...   ...   ...   ...   ...    ...  ...   \n",
       "1015336   4.0   2.0   4.0   3.0   4.0   3.0   3.0   3.0   3.0    3.0  ...   \n",
       "1015337   4.0   3.0   4.0   3.0   3.0   3.0   4.0   4.0   3.0    3.0  ...   \n",
       "1015338   4.0   2.0   4.0   3.0   5.0   1.0   4.0   2.0   4.0    4.0  ...   \n",
       "1015339   2.0   4.0   3.0   4.0   2.0   2.0   1.0   4.0   2.0    4.0  ...   \n",
       "1015340   4.0   2.0   4.0   2.0   4.0   1.0   4.0   2.0   4.0    4.0  ...   \n",
       "\n",
       "                    dateload  screenw  screenh  introelapse  testelapse  \\\n",
       "0        2016-03-03 02:01:01    768.0   1024.0          9.0       234.0   \n",
       "1        2016-03-03 02:01:20   1360.0    768.0         12.0       179.0   \n",
       "2        2016-03-03 02:01:56   1366.0    768.0          3.0       186.0   \n",
       "3        2016-03-03 02:02:02   1920.0   1200.0        186.0       219.0   \n",
       "4        2016-03-03 02:02:57   1366.0    768.0          8.0       315.0   \n",
       "...                      ...      ...      ...          ...         ...   \n",
       "1015336  2018-11-08 12:04:58   1920.0   1080.0          3.0       160.0   \n",
       "1015337  2018-11-08 12:07:18   1920.0   1080.0          3.0       122.0   \n",
       "1015338  2018-11-08 12:07:49   1920.0   1080.0          2.0       135.0   \n",
       "1015339  2018-11-08 12:08:34   1920.0   1080.0          6.0       212.0   \n",
       "1015340  2018-11-08 12:08:45   1920.0   1080.0          3.0       176.0   \n",
       "\n",
       "         endelapse  IPC  country  lat_appx_lots_of_err  long_appx_lots_of_err  \n",
       "0                6    1       GB               51.5448                 0.1991  \n",
       "1               11    1       MY                3.1698                101.706  \n",
       "2                7    1       GB               54.9119                -1.3833  \n",
       "3                7    1       GB                 51.75                  -1.25  \n",
       "4               17    2       KE                   1.0                   38.0  \n",
       "...            ...  ...      ...                   ...                    ...  \n",
       "1015336         10    2       US               39.9883               -75.2208  \n",
       "1015337          7    1       US                  38.0                  -97.0  \n",
       "1015338         12    6       US               36.1473                -86.777  \n",
       "1015339          8    1       US               34.1067              -117.8067  \n",
       "1015340          9    1       US                  38.0                  -97.0  \n",
       "\n",
       "[1015341 rows x 110 columns]>"
      ]
     },
     "execution_count": 22,
     "metadata": {},
     "output_type": "execute_result"
    }
   ],
   "source": [
    "data.info"
   ]
  },
  {
   "cell_type": "code",
   "execution_count": 23,
   "metadata": {},
   "outputs": [
    {
     "name": "stdout",
     "output_type": "stream",
     "text": [
      "EXT1\n",
      "EXT2\n",
      "EXT3\n",
      "EXT4\n",
      "EXT5\n",
      "EXT6\n",
      "EXT7\n",
      "EXT8\n",
      "EXT9\n",
      "EXT10\n",
      "EST1\n",
      "EST2\n",
      "EST3\n",
      "EST4\n",
      "EST5\n",
      "EST6\n",
      "EST7\n",
      "EST8\n",
      "EST9\n",
      "EST10\n",
      "AGR1\n",
      "AGR2\n",
      "AGR3\n",
      "AGR4\n",
      "AGR5\n",
      "AGR6\n",
      "AGR7\n",
      "AGR8\n",
      "AGR9\n",
      "AGR10\n",
      "CSN1\n",
      "CSN2\n",
      "CSN3\n",
      "CSN4\n",
      "CSN5\n",
      "CSN6\n",
      "CSN7\n",
      "CSN8\n",
      "CSN9\n",
      "CSN10\n",
      "OPN1\n",
      "OPN2\n",
      "OPN3\n",
      "OPN4\n",
      "OPN5\n",
      "OPN6\n",
      "OPN7\n",
      "OPN8\n",
      "OPN9\n",
      "OPN10\n",
      "EXT1_E\n",
      "EXT2_E\n",
      "EXT3_E\n",
      "EXT4_E\n",
      "EXT5_E\n",
      "EXT6_E\n",
      "EXT7_E\n",
      "EXT8_E\n",
      "EXT9_E\n",
      "EXT10_E\n",
      "EST1_E\n",
      "EST2_E\n",
      "EST3_E\n",
      "EST4_E\n",
      "EST5_E\n",
      "EST6_E\n",
      "EST7_E\n",
      "EST8_E\n",
      "EST9_E\n",
      "EST10_E\n",
      "AGR1_E\n",
      "AGR2_E\n",
      "AGR3_E\n",
      "AGR4_E\n",
      "AGR5_E\n",
      "AGR6_E\n",
      "AGR7_E\n",
      "AGR8_E\n",
      "AGR9_E\n",
      "AGR10_E\n",
      "CSN1_E\n",
      "CSN2_E\n",
      "CSN3_E\n",
      "CSN4_E\n",
      "CSN5_E\n",
      "CSN6_E\n",
      "CSN7_E\n",
      "CSN8_E\n",
      "CSN9_E\n",
      "CSN10_E\n",
      "OPN1_E\n",
      "OPN2_E\n",
      "OPN3_E\n",
      "OPN4_E\n",
      "OPN5_E\n",
      "OPN6_E\n",
      "OPN7_E\n",
      "OPN8_E\n",
      "OPN9_E\n",
      "OPN10_E\n",
      "dateload\n",
      "screenw\n",
      "screenh\n",
      "introelapse\n",
      "testelapse\n",
      "endelapse\n",
      "IPC\n",
      "country\n",
      "lat_appx_lots_of_err\n",
      "long_appx_lots_of_err\n",
      "110\n"
     ]
    }
   ],
   "source": [
    "count = 0\n",
    "for col in data.columns: \n",
    "    print(col) \n",
    "    count = count+1\n",
    "print(count)    "
   ]
  },
  {
   "cell_type": "code",
   "execution_count": 24,
   "metadata": {},
   "outputs": [
    {
     "data": {
      "text/plain": [
       "103"
      ]
     },
     "execution_count": 24,
     "metadata": {},
     "output_type": "execute_result"
    }
   ],
   "source": [
    "data.columns.get_loc(\"introelapse\")"
   ]
  },
  {
   "cell_type": "code",
   "execution_count": 25,
   "metadata": {},
   "outputs": [
    {
     "name": "stdout",
     "output_type": "stream",
     "text": [
      "True\n"
     ]
    }
   ],
   "source": [
    "print(data['country'].isnull().values.any())\n",
    "replacement= {'country': 'Unknown'}\n",
    "data = data.fillna(value=replacement)"
   ]
  },
  {
   "cell_type": "code",
   "execution_count": 26,
   "metadata": {},
   "outputs": [
    {
     "name": "stdout",
     "output_type": "stream",
     "text": [
      "False\n"
     ]
    }
   ],
   "source": [
    "print(data['country'].isnull().values.any())"
   ]
  },
  {
   "cell_type": "code",
   "execution_count": 27,
   "metadata": {},
   "outputs": [],
   "source": [
    "from sklearn.model_selection import train_test_split\n",
    "\n",
    "X=data.iloc[:,[101,102,103,104]].values\n",
    "y=data.iloc[:,107].values\n",
    "\n",
    "\n",
    "\n"
   ]
  },
  {
   "cell_type": "code",
   "execution_count": 30,
   "metadata": {},
   "outputs": [],
   "source": [
    "from sklearn.model_selection import train_test_split\n",
    "x1,x2,y1,y2 =train_test_split(X, y, random_state=0, train_size =0.2)\n"
   ]
  },
  {
   "cell_type": "code",
   "execution_count": 31,
   "metadata": {},
   "outputs": [],
   "source": [
    "from sklearn.neighbors import KNeighborsClassifier\n",
    "from sklearn.naive_bayes import GaussianNB, MultinomialNB, BernoulliNB\n",
    "from sklearn.linear_model import LogisticRegression, SGDClassifier\n",
    "from sklearn.svm import SVC, LinearSVC, NuSVC\n"
   ]
  },
  {
   "cell_type": "code",
   "execution_count": 38,
   "metadata": {},
   "outputs": [],
   "source": [
    "from sklearn.metrics import accuracy_score, classification_report\n",
    "\n",
    "KNN = KNeighborsClassifier(n_neighbors=1)\n",
    "BNB = BernoulliNB()\n",
    "LR = LogisticRegression()\n",
    "SDG = SGDClassifier()\n",
    "#SVM = SVC()\n",
    "LSVC = LinearSVC()\n",
    "NSVC = NuSVC()"
   ]
  },
  {
   "cell_type": "code",
   "execution_count": 42,
   "metadata": {},
   "outputs": [
    {
     "name": "stdout",
     "output_type": "stream",
     "text": [
      "KNN Accuracy : 0.31522899320794856\n"
     ]
    }
   ],
   "source": [
    "KNN.fit(x1,y1)\n",
    "y2_KNN_model = KNN.predict(x2)\n",
    "print(\"KNN Accuracy :\", accuracy_score(y2, y2_KNN_model))"
   ]
  },
  {
   "cell_type": "code",
   "execution_count": 40,
   "metadata": {},
   "outputs": [
    {
     "name": "stdout",
     "output_type": "stream",
     "text": [
      "BNB Accuracy : 0.5370091090064547\n"
     ]
    }
   ],
   "source": [
    "BNB.fit(x1,y1)\n",
    "y2_BNB_model = BNB.predict(x2)\n",
    "print(\"BNB Accuracy :\", accuracy_score(y2, y2_BNB_model))"
   ]
  },
  {
   "cell_type": "code",
   "execution_count": 43,
   "metadata": {},
   "outputs": [
    {
     "name": "stderr",
     "output_type": "stream",
     "text": [
      "C:\\Users\\dell\\anaconda3\\lib\\site-packages\\sklearn\\linear_model\\_logistic.py:940: ConvergenceWarning: lbfgs failed to converge (status=1):\n",
      "STOP: TOTAL NO. of ITERATIONS REACHED LIMIT.\n",
      "\n",
      "Increase the number of iterations (max_iter) or scale the data as shown in:\n",
      "    https://scikit-learn.org/stable/modules/preprocessing.html\n",
      "Please also refer to the documentation for alternative solver options:\n",
      "    https://scikit-learn.org/stable/modules/linear_model.html#logistic-regression\n",
      "  extra_warning_msg=_LOGISTIC_SOLVER_CONVERGENCE_MSG)\n"
     ]
    },
    {
     "name": "stdout",
     "output_type": "stream",
     "text": [
      "LR Accuracy : 0.5369303177626241\n"
     ]
    }
   ],
   "source": []
  },
  {
   "cell_type": "code",
   "execution_count": null,
   "metadata": {},
   "outputs": [],
   "source": [
    "SDG.fit(x1,y1)\n",
    "y2_SDG_model = SDG.predict(x2)\n",
    "print(\"SDG Accuracy :\", accuracy_score(y2, y2_SDG_model))"
   ]
  },
  {
   "cell_type": "code",
   "execution_count": null,
   "metadata": {},
   "outputs": [],
   "source": []
  },
  {
   "cell_type": "code",
   "execution_count": null,
   "metadata": {},
   "outputs": [],
   "source": []
  },
  {
   "cell_type": "code",
   "execution_count": null,
   "metadata": {},
   "outputs": [],
   "source": []
  },
  {
   "cell_type": "code",
   "execution_count": null,
   "metadata": {},
   "outputs": [],
   "source": []
  },
  {
   "cell_type": "code",
   "execution_count": null,
   "metadata": {},
   "outputs": [],
   "source": []
  },
  {
   "cell_type": "code",
   "execution_count": null,
   "metadata": {},
   "outputs": [],
   "source": []
  },
  {
   "cell_type": "code",
   "execution_count": null,
   "metadata": {},
   "outputs": [],
   "source": []
  },
  {
   "cell_type": "code",
   "execution_count": null,
   "metadata": {},
   "outputs": [],
   "source": []
  },
  {
   "cell_type": "code",
   "execution_count": null,
   "metadata": {},
   "outputs": [],
   "source": []
  },
  {
   "cell_type": "code",
   "execution_count": null,
   "metadata": {},
   "outputs": [],
   "source": []
  },
  {
   "cell_type": "code",
   "execution_count": null,
   "metadata": {},
   "outputs": [],
   "source": []
  },
  {
   "cell_type": "code",
   "execution_count": null,
   "metadata": {},
   "outputs": [],
   "source": []
  },
  {
   "cell_type": "code",
   "execution_count": null,
   "metadata": {},
   "outputs": [],
   "source": []
  },
  {
   "cell_type": "code",
   "execution_count": null,
   "metadata": {},
   "outputs": [],
   "source": []
  },
  {
   "cell_type": "code",
   "execution_count": null,
   "metadata": {},
   "outputs": [],
   "source": []
  },
  {
   "cell_type": "code",
   "execution_count": null,
   "metadata": {},
   "outputs": [],
   "source": []
  },
  {
   "cell_type": "code",
   "execution_count": null,
   "metadata": {},
   "outputs": [],
   "source": []
  },
  {
   "cell_type": "code",
   "execution_count": null,
   "metadata": {},
   "outputs": [],
   "source": []
  },
  {
   "cell_type": "code",
   "execution_count": null,
   "metadata": {},
   "outputs": [],
   "source": []
  },
  {
   "cell_type": "code",
   "execution_count": null,
   "metadata": {},
   "outputs": [],
   "source": []
  },
  {
   "cell_type": "code",
   "execution_count": null,
   "metadata": {},
   "outputs": [],
   "source": []
  }
 ],
 "metadata": {
  "kernelspec": {
   "display_name": "Python 3",
   "language": "python",
   "name": "python3"
  },
  "language_info": {
   "codemirror_mode": {
    "name": "ipython",
    "version": 3
   },
   "file_extension": ".py",
   "mimetype": "text/x-python",
   "name": "python",
   "nbconvert_exporter": "python",
   "pygments_lexer": "ipython3",
   "version": "3.7.6"
  }
 },
 "nbformat": 4,
 "nbformat_minor": 4
}
